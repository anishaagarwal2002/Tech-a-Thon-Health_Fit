{
 "cells": [
  {
   "cell_type": "markdown",
   "id": "8f01ce44-d9ae-4762-b87f-482e1dd0df96",
   "metadata": {},
   "source": [
    "# TEAM NAME: JOSH\n",
    "# TEAM LEADER: ANISHA AGARWAL\n",
    "# EMAIL-ID: anishaagrawal2002@gmail.com\n",
    "# TEAM MEMBER: HIMAANGI MOYAL\n",
    "# EMAIL-ID: himaangi123@gmail.com"
   ]
  },
  {
   "cell_type": "code",
   "execution_count": null,
   "id": "18dae079-8a67-4f56-999c-38ecb9f49055",
   "metadata": {},
   "outputs": [],
   "source": [
    "import csv\n",
    "import warnings\n",
    "from sklearn.model_selection import train_test_split\n",
    "from sklearn.preprocessing import StandardScaler\n",
    "import sklearn.linear_model as sk\n",
    "from sklearn.model_selection import StratifiedKFold, cross_val_score\n",
    "import numpy as nd\n",
    "from sklearn import metrics\n",
    "warnings.filterwarnings('ignore')"
   ]
  },
  {
   "cell_type": "code",
   "execution_count": 6,
   "id": "4177621d-43ba-48e9-9ad9-e23b63042882",
   "metadata": {},
   "outputs": [],
   "source": [
    "# csv file name\n",
    "filename = \"dataset.csv\""
   ]
  },
  {
   "cell_type": "code",
   "execution_count": 7,
   "id": "2166e341-fcd6-4d4e-a02c-ce76744d79d1",
   "metadata": {},
   "outputs": [],
   "source": [
    "fields = []\n",
    "rows = []"
   ]
  },
  {
   "cell_type": "markdown",
   "id": "ee990438-0b82-4c10-ac16-61ea1f5ca7a9",
   "metadata": {
    "tags": []
   },
   "source": [
    "## Read the data"
   ]
  },
  {
   "cell_type": "code",
   "execution_count": 8,
   "id": "29923a84-0bcf-4955-b9f6-39222156d7ad",
   "metadata": {},
   "outputs": [
    {
     "name": "stdout",
     "output_type": "stream",
     "text": [
      "Total no. of rows: 501\n"
     ]
    }
   ],
   "source": [
    "with open(filename, 'r') as csvfile:\n",
    "    # creating a csv reader object\n",
    "    csvreader = csv.reader(csvfile)\n",
    "\n",
    "    # extracting field names through first row\n",
    "    fields = next(csvreader)\n",
    "\n",
    "    # extracting each data row one by one\n",
    "    for row in csvreader:\n",
    "        rows.append(row)\n",
    "\n",
    "    # get total number of rows\n",
    "    print(\"Total no. of rows: %d\" % (csvreader.line_num))"
   ]
  },
  {
   "cell_type": "code",
   "execution_count": 9,
   "id": "dbe642d5-5bdd-4632-9ca6-ddafaf6eec00",
   "metadata": {},
   "outputs": [
    {
     "name": "stdout",
     "output_type": "stream",
     "text": [
      "['Gender', 'Height', 'Weight', 'Index']\n"
     ]
    }
   ],
   "source": [
    "print(fields)"
   ]
  },
  {
   "cell_type": "code",
   "execution_count": 10,
   "id": "b87755cb-85d9-483a-9a14-1a536926c0ba",
   "metadata": {},
   "outputs": [],
   "source": [
    "fields_X = fields[:3]\n",
    "fields_y = fields[-1:]"
   ]
  },
  {
   "cell_type": "code",
   "execution_count": 11,
   "id": "72288f7d-ed04-4122-a319-82e5325217a0",
   "metadata": {},
   "outputs": [],
   "source": [
    "rows_X = []\n",
    "rows_y = []\n",
    "for row in rows:\n",
    "#     print(row[:3])\n",
    "    if row[0] == 'Male' or row[0] == 0:\n",
    "        row[0] = 0\n",
    "    else:\n",
    "        row[0] = 1\n",
    "    rows_X.append(row[:3])\n",
    "    rows_y.append(row[-1:])"
   ]
  },
  {
   "cell_type": "markdown",
   "id": "c8620c96-727a-4323-8aba-9dc352404644",
   "metadata": {},
   "source": [
    "# Dividing dataset into test and train"
   ]
  },
  {
   "cell_type": "code",
   "execution_count": 12,
   "id": "4ce4a311-d99b-470e-ad1b-1d2f3a663946",
   "metadata": {},
   "outputs": [],
   "source": [
    "X_train, X_test, y_train,y_test = train_test_split(rows_X, rows_y, test_size=0.20, random_state=123, stratify=rows_y)"
   ]
  },
  {
   "cell_type": "markdown",
   "id": "f63d2135-438f-41b8-9cc2-2fad8c1eb548",
   "metadata": {},
   "source": [
    "# Data Preprocessing"
   ]
  },
  {
   "cell_type": "code",
   "execution_count": 13,
   "id": "cdca8cde-fc4c-452a-ba06-ef140a27a6e3",
   "metadata": {},
   "outputs": [],
   "source": [
    "# from sklearn.preprocessing import StandardScaler\n",
    "sc = StandardScaler()\n",
    "X_train = sc.fit_transform(X_train)\n",
    "X_test = sc.transform(X_test)"
   ]
  },
  {
   "cell_type": "markdown",
   "id": "bff57203-5066-47e9-a89c-1b5269e3d6dc",
   "metadata": {},
   "source": [
    "# Model Trained(Logistic Regression)"
   ]
  },
  {
   "cell_type": "code",
   "execution_count": 14,
   "id": "e63952ac-cf75-449a-af68-9414341d72d6",
   "metadata": {},
   "outputs": [
    {
     "name": "stdout",
     "output_type": "stream",
     "text": [
      "[0.95238095 0.92857143 0.95238095 0.83333333 0.875      0.82051282\n",
      " 0.92307692 0.84615385 0.89473684 0.86486486]\n",
      "0.89 accuracy with a standard deviation of 0.05\n"
     ]
    }
   ],
   "source": [
    "# import sklearn.linear_model as sk\n",
    "# from sklearn.model_selection import StratifiedKFold, cross_val_score\n",
    "\n",
    "\n",
    "logis = sk.LogisticRegression(multi_class = 'multinomial', max_iter=2500, C = 1e5, class_weight = 'balanced', solver = 'lbfgs')\n",
    "# print(logis)\n",
    "clf = logis.fit(X_train, y_train)\n",
    "# print(clf)\n",
    "\n",
    "kf = StratifiedKFold(shuffle=True, n_splits=10)\n",
    "# print(kf)\n",
    "scores = cross_val_score(clf, X_train, y_train, cv=kf, scoring='accuracy')\n",
    "print(scores)\n",
    "print(\"%0.2f accuracy with a standard deviation of %0.2f\" % (scores.mean(), scores.std()))"
   ]
  },
  {
   "cell_type": "markdown",
   "id": "042260cc-bdbc-4053-9bf9-31f579f0041b",
   "metadata": {},
   "source": [
    "# Predicting test Data"
   ]
  },
  {
   "cell_type": "code",
   "execution_count": 15,
   "id": "11fe8f75-507e-4117-9783-57ff2e446618",
   "metadata": {},
   "outputs": [],
   "source": [
    "# import numpy as nd\n",
    "\n",
    "# Xnew = [[1,198,50]]\n",
    "Xnew = sc.transform(X_test)\n",
    "y_predict = clf.predict(X_test)\n",
    "# for i in range(100):\n",
    "#     print(str(y_predict [i]) + \" \" + str(y_test[i]))\n",
    "for i in range(len(y_test)):\n",
    "    y_test\n",
    "y_predict = nd.array(y_predict ).tolist()\n",
    "y_actual = []\n",
    "for entry in y_test:\n",
    "    y_actual.append(entry[0])\n",
    "# print(type(y_predict))\n",
    "# print(y_predict)\n",
    "# print(type(y_actual))\n",
    "# print(y_actual)"
   ]
  },
  {
   "cell_type": "code",
   "execution_count": 16,
   "id": "091adf81-7aff-43c5-af58-0e4346a40da5",
   "metadata": {},
   "outputs": [
    {
     "name": "stdout",
     "output_type": "stream",
     "text": [
      "{'0': 'Extremely weak', '1': 'Weak', '2': 'Normal', '3': 'Overweight', '4': 'Obesity', '5': 'Extreme obesity'}\n"
     ]
    }
   ],
   "source": [
    "naming = {'0': 'Extremely weak', '1': 'Weak', '2': 'Normal', '3': 'Overweight', '4': 'Obesity', '5': 'Extreme obesity'}\n",
    "print(naming)\n",
    "# print(\"Actual\" , \"Predicted\")\n",
    "# for i in range(100):\n",
    "#     print(naming[y_actual[i]] + \" , \" + naming[y_predict[i]])"
   ]
  },
  {
   "cell_type": "markdown",
   "id": "969f753a-24e8-4894-bc9a-9b3bbc81179f",
   "metadata": {},
   "source": [
    "# Writing the data to output file"
   ]
  },
  {
   "cell_type": "code",
   "execution_count": 17,
   "id": "af741cfe-0069-4231-bcb8-941557f2ae66",
   "metadata": {},
   "outputs": [
    {
     "name": "stdout",
     "output_type": "stream",
     "text": [
      "['Gender', 'Weight', 'Height', 'Index', 'Actual', 'Preidcted']\n"
     ]
    }
   ],
   "source": [
    "output_fields = ['Gender', 'Weight', 'Height', 'Index', 'Actual', 'Preidcted']\n",
    "print (output_fields)\n",
    "output_rows = []\n",
    "for i in range(100):\n",
    "    output_row = []\n",
    "    output_row.extend(rows_X[i])\n",
    "    output_row.extend(rows_y[i])\n",
    "    output_row.append(naming[y_actual[i]])\n",
    "    output_row.append(naming[y_predict[i]])\n",
    "    output_rows.append(output_row)\n",
    "\n",
    "# print(output_rows)\n",
    "\n",
    "#name of csv file\n",
    "\n",
    "file_name = \"output.csv\"\n",
    "\n",
    "#writing to csv file\n",
    "\n",
    "with open(file_name, 'w') as csvfile:\n",
    "    # creating a csv writer object\n",
    "    csvwriter = csv.writer(csvfile)\n",
    "      \n",
    "    # writing the fields\n",
    "    csvwriter.writerow(output_fields)\n",
    "      \n",
    "    # writing the data rows\n",
    "    csvwriter.writerows(output_rows)"
   ]
  },
  {
   "cell_type": "markdown",
   "id": "70558bae-35e8-44ff-830e-d068ee2064d2",
   "metadata": {},
   "source": [
    "# Analysis using confusion matrix"
   ]
  },
  {
   "cell_type": "code",
   "execution_count": 18,
   "id": "d4c0fec2-9744-41e3-83e8-4f7eb79c27d5",
   "metadata": {},
   "outputs": [
    {
     "name": "stdout",
     "output_type": "stream",
     "text": [
      "[[ 3  0  0  0  0  0]\n",
      " [ 0  4  0  0  0  0]\n",
      " [ 0  0 14  0  0  0]\n",
      " [ 0  0  0 14  0  0]\n",
      " [ 0  0  0  0 26  0]\n",
      " [ 0  0  0  0  0 39]]\n"
     ]
    }
   ],
   "source": [
    "# from sklearn import metrics\n",
    "print(metrics.confusion_matrix(y_actual, y_test, labels=['0','1','2','3','4','5']))"
   ]
  },
  {
   "cell_type": "code",
   "execution_count": 19,
   "id": "d93f5c6e-952b-4106-aaf8-fe69af0890ab",
   "metadata": {},
   "outputs": [
    {
     "name": "stdout",
     "output_type": "stream",
     "text": [
      "              precision    recall  f1-score   support\n",
      "\n",
      "           0       1.00      1.00      1.00         3\n",
      "           1       1.00      1.00      1.00         4\n",
      "           2       1.00      1.00      1.00        14\n",
      "           3       1.00      1.00      1.00        14\n",
      "           4       1.00      1.00      1.00        26\n",
      "           5       1.00      1.00      1.00        39\n",
      "\n",
      "    accuracy                           1.00       100\n",
      "   macro avg       1.00      1.00      1.00       100\n",
      "weighted avg       1.00      1.00      1.00       100\n",
      "\n"
     ]
    }
   ],
   "source": [
    "print(metrics.classification_report (y_actual, y_test, labels=['0','1','2','3','4','5']))"
   ]
  },
  {
   "cell_type": "code",
   "execution_count": null,
   "id": "11528a73-e19b-4642-b068-cffc5093ea00",
   "metadata": {},
   "outputs": [],
   "source": []
  },
  {
   "cell_type": "code",
   "execution_count": null,
   "id": "c0d6e6eb-5f4b-48c7-b274-dadbac6160f7",
   "metadata": {},
   "outputs": [],
   "source": []
  },
  {
   "cell_type": "code",
   "execution_count": null,
   "id": "9ec0f62f-ada2-4b7e-b021-0758944397ab",
   "metadata": {},
   "outputs": [],
   "source": []
  }
 ],
 "metadata": {
  "kernelspec": {
   "display_name": "Python 3",
   "language": "python",
   "name": "python3"
  },
  "language_info": {
   "codemirror_mode": {
    "name": "ipython",
    "version": 3
   },
   "file_extension": ".py",
   "mimetype": "text/x-python",
   "name": "python",
   "nbconvert_exporter": "python",
   "pygments_lexer": "ipython3",
   "version": "3.7.8"
  }
 },
 "nbformat": 4,
 "nbformat_minor": 5
}
